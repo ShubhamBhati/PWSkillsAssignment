{
 "cells": [
  {
   "cell_type": "markdown",
   "id": "1cd7c09c-9ba4-4d3f-a5fb-457e75ca395f",
   "metadata": {},
   "source": [
    "# 19th August Python Basics Assignment"
   ]
  },
  {
   "cell_type": "markdown",
   "id": "50841da3-7dc5-4de5-8b15-4407320f7dd7",
   "metadata": {},
   "source": [
    "## TOPIC : Python Basics Variable "
   ]
  },
  {
   "cell_type": "markdown",
   "id": "b86514a2-ac37-4129-8804-a93c94e67493",
   "metadata": {},
   "source": [
    "### Q1"
   ]
  },
  {
   "cell_type": "code",
   "execution_count": 8,
   "id": "5ad1d278-c2d1-4057-b662-caee017d1c86",
   "metadata": {},
   "outputs": [
    {
     "name": "stdout",
     "output_type": "stream",
     "text": [
      "Original Value of X :  1\n",
      "Original Value of Y :  9\n"
     ]
    }
   ],
   "source": [
    "# Initialization of variables\n",
    "x=1\n",
    "y=9\n",
    "\n",
    "print(\"Original Value of X : \",x)\n",
    "print(\"Original Value of Y : \",y)"
   ]
  },
  {
   "cell_type": "code",
   "execution_count": 9,
   "id": "365881f3-09ec-4cc8-8ac5-1a1023f2d3a6",
   "metadata": {},
   "outputs": [],
   "source": [
    "# Swapping of variables\n",
    "x=x+y\n",
    "y=x-y\n",
    "x=x-y"
   ]
  },
  {
   "cell_type": "code",
   "execution_count": 10,
   "id": "2c9067ac-1c15-4a96-854a-c5979da6b4d4",
   "metadata": {},
   "outputs": [
    {
     "name": "stdout",
     "output_type": "stream",
     "text": [
      "New Value of X :  9\n",
      "New Value of Y :  1\n"
     ]
    }
   ],
   "source": [
    "print(\"New Value of X : \",x)\n",
    "print(\"New Value of Y : \",y)"
   ]
  },
  {
   "cell_type": "markdown",
   "id": "b085ad39-5ba5-4030-9c0d-3069f59adb7f",
   "metadata": {},
   "source": [
    "### Q2"
   ]
  },
  {
   "cell_type": "code",
   "execution_count": 18,
   "id": "6fa0124d-9436-4c4b-ae60-845e3ae325e7",
   "metadata": {},
   "outputs": [
    {
     "name": "stdout",
     "output_type": "stream",
     "text": [
      "Please enter length of the Rectangle : \n"
     ]
    },
    {
     "name": "stdin",
     "output_type": "stream",
     "text": [
      " 5\n"
     ]
    }
   ],
   "source": [
    "# Taking length and width as input from user\n",
    "print(\"Please enter length of the Rectangle : \")\n",
    "l=int(input())"
   ]
  },
  {
   "cell_type": "code",
   "execution_count": 19,
   "id": "7d4a7dd2-2f34-425a-8b0e-47149ff24353",
   "metadata": {},
   "outputs": [
    {
     "name": "stdout",
     "output_type": "stream",
     "text": [
      "Please enter Width of the Rectangle : \n"
     ]
    },
    {
     "name": "stdin",
     "output_type": "stream",
     "text": [
      " 8\n"
     ]
    }
   ],
   "source": [
    "print(\"Please enter Width of the Rectangle : \")\n",
    "w=int(input())"
   ]
  },
  {
   "cell_type": "code",
   "execution_count": 32,
   "id": "74178ca1-b3f3-43de-bddc-555facef73c7",
   "metadata": {},
   "outputs": [
    {
     "name": "stdout",
     "output_type": "stream",
     "text": [
      "Area of the Rectangle with sides 5 and 8 is 40\n"
     ]
    }
   ],
   "source": [
    "# Calculating the Area\n",
    "area=l*w\n",
    "print(\"Area of the Rectangle with sides\",l,\"and\",w,\"is\",area)"
   ]
  },
  {
   "cell_type": "markdown",
   "id": "8c80cdbc-ebe6-4f55-9957-af2d16e634c6",
   "metadata": {},
   "source": [
    "### Q3"
   ]
  },
  {
   "cell_type": "code",
   "execution_count": 24,
   "id": "ba114e03-fd50-4d97-83fc-bb552a57213a",
   "metadata": {},
   "outputs": [
    {
     "name": "stdout",
     "output_type": "stream",
     "text": [
      "Please Enter the Temperature in Celsius : \n"
     ]
    },
    {
     "name": "stdin",
     "output_type": "stream",
     "text": [
      " 38\n"
     ]
    }
   ],
   "source": [
    "# Taking Input from user in Celsius\n",
    "print(\"Please Enter the Temperature in Celsius : \")\n",
    "c=int(input())"
   ]
  },
  {
   "cell_type": "code",
   "execution_count": 26,
   "id": "b8f8b0fc-abad-4a79-83d5-c9b8c0c82e87",
   "metadata": {},
   "outputs": [
    {
     "name": "stdout",
     "output_type": "stream",
     "text": [
      "38  Celsius is equal to  100.4  Fahrenheit\n"
     ]
    }
   ],
   "source": [
    "#Converting from celsius to fahrenheit\n",
    "f=(c*9/5)+32\n",
    "print(c,\"Celsius is equal to \",f,\"Fahrenheit\")"
   ]
  },
  {
   "cell_type": "markdown",
   "id": "b955955a-3d7d-4a9c-8b40-0305f30c5e4d",
   "metadata": {},
   "source": [
    "## TOPIC: String Based Questions"
   ]
  },
  {
   "cell_type": "markdown",
   "id": "ab4f91ba-2022-4d9c-b62e-38257f21ab7c",
   "metadata": {},
   "source": [
    "### Q1"
   ]
  },
  {
   "cell_type": "code",
   "execution_count": 33,
   "id": "c19c8274-d738-4cca-977f-33f0bc0c6411",
   "metadata": {},
   "outputs": [
    {
     "name": "stdout",
     "output_type": "stream",
     "text": [
      "Please enter a String \n"
     ]
    },
    {
     "name": "stdin",
     "output_type": "stream",
     "text": [
      " asjkfgdkjashbfdkjasb asdkjhasdkh -=\n"
     ]
    }
   ],
   "source": [
    "# Taking string as input from user\n",
    "print(\"Please enter a String \")\n",
    "string1=input()"
   ]
  },
  {
   "cell_type": "code",
   "execution_count": 34,
   "id": "b1071e1e-bcfe-4a30-86f0-02e963901668",
   "metadata": {},
   "outputs": [
    {
     "name": "stdout",
     "output_type": "stream",
     "text": [
      "Length of the String is 35\n"
     ]
    }
   ],
   "source": [
    "str_len=len(string1)\n",
    "print(\"Length of the String is\",str_len)"
   ]
  },
  {
   "cell_type": "markdown",
   "id": "82c403e1-09c4-4fed-9279-de5ceb6a9cde",
   "metadata": {},
   "source": [
    "### Q2"
   ]
  },
  {
   "cell_type": "code",
   "execution_count": 4,
   "id": "293597ef-84e6-4000-8098-085ea41a5754",
   "metadata": {},
   "outputs": [
    {
     "name": "stdin",
     "output_type": "stream",
     "text": [
      "Enter a sentence:  ShubAhm\n"
     ]
    },
    {
     "name": "stdout",
     "output_type": "stream",
     "text": [
      "Number of vowels: 2\n"
     ]
    }
   ],
   "source": [
    "# Taking Input from User\n",
    "sentence = input(\"Enter a sentence: \")\n",
    "\n",
    "count = 0\n",
    "\n",
    "for char in sentence:\n",
    "    char_lower = char.lower()\n",
    "\n",
    "    if char_lower in \"aeiou\":     #Check if the character is a vowel (a, e, i, o, u)\n",
    "        count += 1          # If the character is a vowel, increment the vowel_count variable\n",
    "\n",
    "print(\"Number of vowels:\", count)"
   ]
  },
  {
   "cell_type": "markdown",
   "id": "ac1b9622-a6b8-4a45-9820-74244ac2d9c3",
   "metadata": {},
   "source": [
    "### Q3"
   ]
  },
  {
   "cell_type": "code",
   "execution_count": 35,
   "id": "45c89932-b28a-4b59-a518-69f5e47d70e6",
   "metadata": {},
   "outputs": [],
   "source": [
    "string2=\"Assignment\""
   ]
  },
  {
   "cell_type": "code",
   "execution_count": 39,
   "id": "ea0e32e9-dd43-443a-bc78-26779e9e8d98",
   "metadata": {},
   "outputs": [
    {
     "name": "stdout",
     "output_type": "stream",
     "text": [
      "Original String was Assignment and Reversed String is tnemngissA\n"
     ]
    }
   ],
   "source": [
    "# Slicing and Reversing the string\n",
    "sliced_str=string2[::-1]\n",
    "print(\"Original String was\",string2,\"and Reversed String is\",sliced_str)"
   ]
  },
  {
   "cell_type": "markdown",
   "id": "7e7c7e5e-9a96-4132-93e0-efaacde9f103",
   "metadata": {},
   "source": [
    "### Q4"
   ]
  },
  {
   "cell_type": "code",
   "execution_count": 43,
   "id": "6cf9a8aa-2695-4d80-8ed6-5a0559e92937",
   "metadata": {},
   "outputs": [
    {
     "name": "stdout",
     "output_type": "stream",
     "text": [
      "Please enter a String \n"
     ]
    },
    {
     "name": "stdin",
     "output_type": "stream",
     "text": [
      " shub\n"
     ]
    }
   ],
   "source": [
    "# Taking string as input from user\n",
    "print(\"Please enter a String \")\n",
    "string3=input()"
   ]
  },
  {
   "cell_type": "code",
   "execution_count": 44,
   "id": "39c5fc67-ec08-4105-a72c-8af9c76f4764",
   "metadata": {},
   "outputs": [
    {
     "name": "stdout",
     "output_type": "stream",
     "text": [
      "String is not a palindrome\n"
     ]
    }
   ],
   "source": [
    "reversed_str=string3[::-1]\n",
    "if(string3==reversed_str):\n",
    "    print(\"String is a palindrome\")\n",
    "else:\n",
    "    print(\"String is not a palindrome\")"
   ]
  },
  {
   "cell_type": "markdown",
   "id": "caff8c36-2f81-4f28-a129-32732588125a",
   "metadata": {},
   "source": [
    "### Q5"
   ]
  },
  {
   "cell_type": "code",
   "execution_count": 1,
   "id": "e199316c-cadb-4864-84b6-7720a9cc3d51",
   "metadata": {},
   "outputs": [
    {
     "name": "stdout",
     "output_type": "stream",
     "text": [
      "Please enter a String \n"
     ]
    },
    {
     "name": "stdin",
     "output_type": "stream",
     "text": [
      " shub ham bha ti\n"
     ]
    }
   ],
   "source": [
    "# Taking string as input from user\n",
    "print(\"Please enter a String \")\n",
    "string4=input()"
   ]
  },
  {
   "cell_type": "code",
   "execution_count": 2,
   "id": "054ed743-fd93-4420-aa14-7b404bf26183",
   "metadata": {},
   "outputs": [
    {
     "name": "stdout",
     "output_type": "stream",
     "text": [
      "String wihtout spaces is  shubhambhati\n"
     ]
    }
   ],
   "source": [
    "NewString=\"\"\n",
    "for char in string4:\n",
    "    if char!= \" \":\n",
    "        NewString+=char\n",
    "        \n",
    "print(\"String wihtout spaces is \",NewString)"
   ]
  },
  {
   "cell_type": "code",
   "execution_count": null,
   "id": "23b7264c-d83b-4aa8-b2f3-433292430ab7",
   "metadata": {},
   "outputs": [],
   "source": []
  }
 ],
 "metadata": {
  "kernelspec": {
   "display_name": "Python 3 (ipykernel)",
   "language": "python",
   "name": "python3"
  },
  "language_info": {
   "codemirror_mode": {
    "name": "ipython",
    "version": 3
   },
   "file_extension": ".py",
   "mimetype": "text/x-python",
   "name": "python",
   "nbconvert_exporter": "python",
   "pygments_lexer": "ipython3",
   "version": "3.10.8"
  }
 },
 "nbformat": 4,
 "nbformat_minor": 5
}
